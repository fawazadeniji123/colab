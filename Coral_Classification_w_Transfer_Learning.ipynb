{
  "nbformat": 4,
  "nbformat_minor": 0,
  "metadata": {
    "colab": {
      "provenance": [],
      "collapsed_sections": [],
      "mount_file_id": "1Zwb3sB1YFBEyy-bd2OenG9iXjsShI-9p",
      "authorship_tag": "ABX9TyObfiPB7zDyzMcNB3Duj6E1",
      "include_colab_link": true
    },
    "kernelspec": {
      "name": "python3",
      "display_name": "Python 3"
    },
    "language_info": {
      "name": "python"
    },
    "accelerator": "GPU"
  },
  "cells": [
    {
      "cell_type": "markdown",
      "metadata": {
        "id": "view-in-github",
        "colab_type": "text"
      },
      "source": [
        "<a href=\"https://colab.research.google.com/github/fawazadeniji123/colab/blob/main/Coral_Classification_w_Transfer_Learning.ipynb\" target=\"_parent\"><img src=\"https://colab.research.google.com/assets/colab-badge.svg\" alt=\"Open In Colab\"/></a>"
      ]
    },
    {
      "cell_type": "code",
      "metadata": {
        "id": "MY15pjAMs2sr"
      },
      "source": [
        "import tensorflow as tf\n",
        "import numpy as np\n",
        "import pandas as pd\n",
        "import matplotlib.pyplot as plt\n",
        "import os"
      ],
      "execution_count": null,
      "outputs": []
    },
    {
      "cell_type": "code",
      "metadata": {
        "id": "cIQMbZAoHcdR"
      },
      "source": [
        "tf.random.set_seed(42)"
      ],
      "execution_count": null,
      "outputs": []
    },
    {
      "cell_type": "code",
      "metadata": {
        "id": "wjFZ8CHojhl-"
      },
      "source": [
        "#For Colab\n",
        "\n",
        "#This is the path for of the folder where the datasets is stored in Drive\n",
        "path = '/content/drive/MyDrive/Coral Classification Challenge/coral_dataset_compressed.npz' \n",
        "\n",
        "with np.load(path) as data:\n",
        "  train_imgs = data['train']\n",
        "  test_imgs = data['test']"
      ],
      "execution_count": null,
      "outputs": []
    },
    {
      "cell_type": "code",
      "metadata": {
        "id": "B2bUS5YL-HKP"
      },
      "source": [
        "path = '/content/drive/MyDrive/Coral Classification Challenge/'\n",
        "train_csv = pd.read_csv(path+'Train.csv')\n",
        "test_csv = pd.read_csv(path+'Test.csv')"
      ],
      "execution_count": null,
      "outputs": []
    },
    {
      "cell_type": "code",
      "metadata": {
        "id": "nmsc6UvYrRjH",
        "colab": {
          "base_uri": "https://localhost:8080/"
        },
        "outputId": "8a9b7e7a-6c0e-47d1-c2bb-022c560c2e28"
      },
      "source": [
        "train_targets = train_csv.drop('Image_ID', axis=1)\n",
        "train_targets = pd.get_dummies(train_targets)\n",
        "print(train_targets.info())"
      ],
      "execution_count": null,
      "outputs": [
        {
          "output_type": "stream",
          "name": "stdout",
          "text": [
            "<class 'pandas.core.frame.DataFrame'>\n",
            "RangeIndex: 21680 entries, 0 to 21679\n",
            "Data columns (total 5 columns):\n",
            " #   Column                     Non-Null Count  Dtype\n",
            "---  ------                     --------------  -----\n",
            " 0   label_Algae                21680 non-null  uint8\n",
            " 1   label_Hard Coral           21680 non-null  uint8\n",
            " 2   label_Other                21680 non-null  uint8\n",
            " 3   label_Other Invertebrates  21680 non-null  uint8\n",
            " 4   label_Soft Coral           21680 non-null  uint8\n",
            "dtypes: uint8(5)\n",
            "memory usage: 106.0 KB\n",
            "None\n"
          ]
        }
      ]
    },
    {
      "cell_type": "code",
      "metadata": {
        "id": "q1qOUqrOBPV2",
        "colab": {
          "base_uri": "https://localhost:8080/"
        },
        "outputId": "ada7eb60-cbd6-4f65-8c3d-b1fde0bf544c"
      },
      "source": [
        "train_targets = np.array(train_targets)\n",
        "train_targets[:5]"
      ],
      "execution_count": null,
      "outputs": [
        {
          "output_type": "execute_result",
          "data": {
            "text/plain": [
              "array([[0, 0, 1, 0, 0],\n",
              "       [0, 1, 0, 0, 0],\n",
              "       [0, 1, 0, 0, 0],\n",
              "       [0, 1, 0, 0, 0],\n",
              "       [0, 0, 1, 0, 0]], dtype=uint8)"
            ]
          },
          "metadata": {},
          "execution_count": 6
        }
      ]
    },
    {
      "cell_type": "code",
      "metadata": {
        "colab": {
          "base_uri": "https://localhost:8080/"
        },
        "id": "Z_GAqovIGbsE",
        "outputId": "8e792214-f7bd-44ad-9354-859615b7a73e"
      },
      "source": [
        "train_imgs.shape"
      ],
      "execution_count": null,
      "outputs": [
        {
          "output_type": "execute_result",
          "data": {
            "text/plain": [
              "(21680, 100, 100, 3)"
            ]
          },
          "metadata": {},
          "execution_count": 7
        }
      ]
    },
    {
      "cell_type": "code",
      "metadata": {
        "colab": {
          "base_uri": "https://localhost:8080/"
        },
        "id": "tV9KJmZ4Gh40",
        "outputId": "ff1ef0d3-02c5-48a9-fe5f-1414be795064"
      },
      "source": [
        "21680*0.2"
      ],
      "execution_count": null,
      "outputs": [
        {
          "output_type": "execute_result",
          "data": {
            "text/plain": [
              "4336.0"
            ]
          },
          "metadata": {},
          "execution_count": 8
        }
      ]
    },
    {
      "cell_type": "code",
      "metadata": {
        "id": "KOLCO6r2GOpd"
      },
      "source": [
        "# Using 80-20 split\n",
        "X_train, X_test, y_train, y_test = train_imgs[:-4336], train_imgs[-4336:], train_targets[:-4336], train_targets[-4336:]"
      ],
      "execution_count": null,
      "outputs": []
    },
    {
      "cell_type": "code",
      "metadata": {
        "colab": {
          "base_uri": "https://localhost:8080/"
        },
        "id": "bFB59C8oG2FE",
        "outputId": "776cda87-7d16-41aa-b67a-84eb4922e042"
      },
      "source": [
        "X_train.shape, X_test.shape, y_train.shape, y_test.shape"
      ],
      "execution_count": null,
      "outputs": [
        {
          "output_type": "execute_result",
          "data": {
            "text/plain": [
              "((17344, 100, 100, 3), (4336, 100, 100, 3), (17344, 5), (4336, 5))"
            ]
          },
          "metadata": {},
          "execution_count": 10
        }
      ]
    },
    {
      "cell_type": "code",
      "metadata": {
        "id": "E4EqtD3wDnok"
      },
      "source": [
        "from tensorflow.keras import layers, models"
      ],
      "execution_count": null,
      "outputs": []
    },
    {
      "cell_type": "code",
      "metadata": {
        "id": "5-bSYnJKBhkm"
      },
      "source": [
        "data_augmentation = tf.keras.Sequential([\n",
        "    layers.RandomFlip(\"horizontal\",\n",
        "                      input_shape=(100, 100, 3)\n",
        "                      ),\n",
        "    layers.RandomRotation(0.2),\n",
        "    layers.RandomZoom(0.1),\n",
        "])"
      ],
      "execution_count": null,
      "outputs": []
    },
    {
      "cell_type": "code",
      "metadata": {
        "id": "Fjxa8tfJDhv0"
      },
      "source": [
        "rescale = tf.keras.layers.Rescaling(1./127.5, offset=-1)"
      ],
      "execution_count": null,
      "outputs": []
    },
    {
      "cell_type": "code",
      "metadata": {
        "colab": {
          "base_uri": "https://localhost:8080/"
        },
        "id": "yxS1jjNhD9SU",
        "outputId": "41f60c7d-e724-4481-bfc5-80b25c027d2f"
      },
      "source": [
        "# Create the base model from the pre-trained model MobileNet V2\n",
        "base_model = tf.keras.applications.MobileNetV2(input_shape=(100, 100, 3),\n",
        "                                               include_top=False,\n",
        "                                               weights='imagenet')"
      ],
      "execution_count": null,
      "outputs": [
        {
          "output_type": "stream",
          "name": "stdout",
          "text": [
            "WARNING:tensorflow:`input_shape` is undefined or non-square, or `rows` is not in [96, 128, 160, 192, 224]. Weights for input shape (224, 224) will be loaded as the default.\n",
            "Downloading data from https://storage.googleapis.com/tensorflow/keras-applications/mobilenet_v2/mobilenet_v2_weights_tf_dim_ordering_tf_kernels_1.0_224_no_top.h5\n",
            "9412608/9406464 [==============================] - 0s 0us/step\n",
            "9420800/9406464 [==============================] - 0s 0us/step\n"
          ]
        }
      ]
    },
    {
      "cell_type": "code",
      "metadata": {
        "colab": {
          "base_uri": "https://localhost:8080/"
        },
        "id": "oOLwJkcnFv0z",
        "outputId": "b040b67a-0b02-426b-85d6-4378ae967cea"
      },
      "source": [
        "image_batch = X_train[:32]\n",
        "feature_batch = base_model(image_batch)\n",
        "print(feature_batch.shape)"
      ],
      "execution_count": null,
      "outputs": [
        {
          "output_type": "stream",
          "name": "stdout",
          "text": [
            "(32, 4, 4, 1280)\n"
          ]
        }
      ]
    },
    {
      "cell_type": "code",
      "metadata": {
        "id": "oS9IXNqZE94e"
      },
      "source": [
        "base_model.trainable = False"
      ],
      "execution_count": null,
      "outputs": []
    },
    {
      "cell_type": "code",
      "metadata": {
        "id": "lJwcQ8t1FitN"
      },
      "source": [
        "base_model.summary()"
      ],
      "execution_count": null,
      "outputs": []
    },
    {
      "cell_type": "code",
      "metadata": {
        "colab": {
          "base_uri": "https://localhost:8080/"
        },
        "id": "U4IF_okgHf4f",
        "outputId": "cd4e87c5-f202-4d88-dbe9-74ddfaf083ae"
      },
      "source": [
        "global_average_layer = tf.keras.layers.GlobalAveragePooling2D()\n",
        "feature_batch_average = global_average_layer(feature_batch)\n",
        "print(feature_batch_average.shape)"
      ],
      "execution_count": null,
      "outputs": [
        {
          "output_type": "stream",
          "name": "stdout",
          "text": [
            "(32, 1280)\n"
          ]
        }
      ]
    },
    {
      "cell_type": "code",
      "metadata": {
        "colab": {
          "base_uri": "https://localhost:8080/"
        },
        "id": "oBSYjH-6ILFs",
        "outputId": "c8009368-e868-4223-f590-0b40bb1a8ad1"
      },
      "source": [
        "prediction_layer = tf.keras.layers.Dense(5, activation='softmax')\n",
        "prediction_batch = prediction_layer(feature_batch_average)\n",
        "print(prediction_batch.shape)"
      ],
      "execution_count": null,
      "outputs": [
        {
          "output_type": "stream",
          "name": "stdout",
          "text": [
            "(32, 5)\n"
          ]
        }
      ]
    },
    {
      "cell_type": "code",
      "metadata": {
        "id": "QC_d35NxJUan"
      },
      "source": [
        "inputs = tf.keras.Input(shape=(100, 100, 3))\n",
        "x = data_augmentation(inputs)\n",
        "x = rescale(x)\n",
        "x = base_model(x, training=False)\n",
        "x = global_average_layer(x)\n",
        "x = tf.keras.layers.Dropout(0.2)(x)\n",
        "outputs = prediction_layer(x)\n",
        "model = tf.keras.Model(inputs, outputs)"
      ],
      "execution_count": null,
      "outputs": []
    },
    {
      "cell_type": "code",
      "metadata": {
        "id": "rjf-yDZzLeKi"
      },
      "source": [
        "base_learning_rate = 0.0001\n",
        "model.compile(optimizer=tf.keras.optimizers.Adam(learning_rate=base_learning_rate),\n",
        "              loss=tf.keras.losses.CategoricalCrossentropy(),\n",
        "              metrics=['accuracy'])"
      ],
      "execution_count": null,
      "outputs": []
    },
    {
      "cell_type": "code",
      "metadata": {
        "colab": {
          "base_uri": "https://localhost:8080/"
        },
        "id": "IzxOjRAJMklt",
        "outputId": "b9ac1f64-93fc-43c5-9249-eccbfd92cdb3"
      },
      "source": [
        "model.summary()"
      ],
      "execution_count": null,
      "outputs": [
        {
          "output_type": "stream",
          "name": "stdout",
          "text": [
            "Model: \"model\"\n",
            "_________________________________________________________________\n",
            "Layer (type)                 Output Shape              Param #   \n",
            "=================================================================\n",
            "input_2 (InputLayer)         [(None, 100, 100, 3)]     0         \n",
            "_________________________________________________________________\n",
            "sequential (Sequential)      (None, 100, 100, 3)       0         \n",
            "_________________________________________________________________\n",
            "rescaling (Rescaling)        (None, 100, 100, 3)       0         \n",
            "_________________________________________________________________\n",
            "mobilenetv2_1.00_224 (Functi (None, 4, 4, 1280)        2257984   \n",
            "_________________________________________________________________\n",
            "global_average_pooling2d (Gl (None, 1280)              0         \n",
            "_________________________________________________________________\n",
            "dropout (Dropout)            (None, 1280)              0         \n",
            "_________________________________________________________________\n",
            "dense (Dense)                (None, 5)                 6405      \n",
            "=================================================================\n",
            "Total params: 2,264,389\n",
            "Trainable params: 6,405\n",
            "Non-trainable params: 2,257,984\n",
            "_________________________________________________________________\n"
          ]
        }
      ]
    },
    {
      "cell_type": "code",
      "metadata": {
        "colab": {
          "base_uri": "https://localhost:8080/"
        },
        "id": "XiIOTvK0MoJM",
        "outputId": "645bb763-2086-4b63-f965-69bb0388fb0b"
      },
      "source": [
        "initial_epochs = 50\n",
        "\n",
        "loss0, accuracy0 = model.evaluate(X_test, y_test)"
      ],
      "execution_count": null,
      "outputs": [
        {
          "output_type": "stream",
          "name": "stdout",
          "text": [
            "136/136 [==============================] - 6s 29ms/step - loss: 2.8246 - accuracy: 0.1476\n"
          ]
        }
      ]
    },
    {
      "cell_type": "code",
      "metadata": {
        "colab": {
          "base_uri": "https://localhost:8080/"
        },
        "id": "X0cJWxNhNfTs",
        "outputId": "8e6dee77-435b-430d-8c40-cae35a4120da"
      },
      "source": [
        "print(\"initial loss: {:.2f}\".format(loss0))\n",
        "print(\"initial accuracy: {:.2f}\".format(accuracy0))"
      ],
      "execution_count": null,
      "outputs": [
        {
          "output_type": "stream",
          "name": "stdout",
          "text": [
            "initial loss: 2.82\n",
            "initial accuracy: 0.15\n"
          ]
        }
      ]
    },
    {
      "cell_type": "code",
      "metadata": {
        "id": "YKxWrdW2c40G"
      },
      "source": [
        "callback = tf.keras.callbacks.EarlyStopping(monitor='loss', patience=5)"
      ],
      "execution_count": null,
      "outputs": []
    },
    {
      "cell_type": "code",
      "metadata": {
        "colab": {
          "base_uri": "https://localhost:8080/"
        },
        "id": "_Wyx-zv8Nsk8",
        "outputId": "231a7af5-e92e-4ee5-dc68-da0660f8102f"
      },
      "source": [
        "history = model.fit(X_train, y_train,\n",
        "                    epochs=initial_epochs,\n",
        "                    validation_data=(X_test, y_test),\n",
        "                    callbacks=[callback])"
      ],
      "execution_count": null,
      "outputs": [
        {
          "output_type": "stream",
          "name": "stdout",
          "text": [
            "Epoch 1/50\n",
            "542/542 [==============================] - 22s 35ms/step - loss: 1.5436 - accuracy: 0.4677 - val_loss: 1.3274 - val_accuracy: 0.5182\n",
            "Epoch 2/50\n",
            "542/542 [==============================] - 18s 34ms/step - loss: 1.3872 - accuracy: 0.5032 - val_loss: 1.2472 - val_accuracy: 0.5318\n",
            "Epoch 3/50\n",
            "542/542 [==============================] - 18s 34ms/step - loss: 1.2957 - accuracy: 0.5237 - val_loss: 1.2086 - val_accuracy: 0.5417\n",
            "Epoch 4/50\n",
            "542/542 [==============================] - 18s 34ms/step - loss: 1.2538 - accuracy: 0.5345 - val_loss: 1.1723 - val_accuracy: 0.5466\n",
            "Epoch 5/50\n",
            "542/542 [==============================] - 20s 37ms/step - loss: 1.2238 - accuracy: 0.5409 - val_loss: 1.1518 - val_accuracy: 0.5579\n",
            "Epoch 6/50\n",
            "542/542 [==============================] - 18s 34ms/step - loss: 1.2026 - accuracy: 0.5479 - val_loss: 1.1451 - val_accuracy: 0.5524\n",
            "Epoch 7/50\n",
            "542/542 [==============================] - 20s 38ms/step - loss: 1.1771 - accuracy: 0.5507 - val_loss: 1.1402 - val_accuracy: 0.5616\n",
            "Epoch 8/50\n",
            "542/542 [==============================] - 18s 34ms/step - loss: 1.1600 - accuracy: 0.5564 - val_loss: 1.1237 - val_accuracy: 0.5623\n",
            "Epoch 9/50\n",
            "542/542 [==============================] - 19s 34ms/step - loss: 1.1503 - accuracy: 0.5619 - val_loss: 1.1151 - val_accuracy: 0.5620\n",
            "Epoch 10/50\n",
            "542/542 [==============================] - 18s 34ms/step - loss: 1.1366 - accuracy: 0.5661 - val_loss: 1.1140 - val_accuracy: 0.5641\n",
            "Epoch 11/50\n",
            "542/542 [==============================] - 19s 34ms/step - loss: 1.1192 - accuracy: 0.5728 - val_loss: 1.1157 - val_accuracy: 0.5639\n",
            "Epoch 12/50\n",
            "542/542 [==============================] - 19s 34ms/step - loss: 1.1159 - accuracy: 0.5722 - val_loss: 1.1042 - val_accuracy: 0.5715\n",
            "Epoch 13/50\n",
            "542/542 [==============================] - 19s 34ms/step - loss: 1.0972 - accuracy: 0.5798 - val_loss: 1.0943 - val_accuracy: 0.5736\n",
            "Epoch 14/50\n",
            "542/542 [==============================] - 19s 34ms/step - loss: 1.1034 - accuracy: 0.5762 - val_loss: 1.0939 - val_accuracy: 0.5678\n",
            "Epoch 15/50\n",
            "542/542 [==============================] - 18s 34ms/step - loss: 1.0946 - accuracy: 0.5805 - val_loss: 1.0911 - val_accuracy: 0.5733\n",
            "Epoch 16/50\n",
            "542/542 [==============================] - 19s 34ms/step - loss: 1.0859 - accuracy: 0.5838 - val_loss: 1.0900 - val_accuracy: 0.5694\n",
            "Epoch 17/50\n",
            "542/542 [==============================] - 19s 34ms/step - loss: 1.0888 - accuracy: 0.5830 - val_loss: 1.0864 - val_accuracy: 0.5768\n",
            "Epoch 18/50\n",
            "542/542 [==============================] - 18s 34ms/step - loss: 1.0846 - accuracy: 0.5837 - val_loss: 1.0855 - val_accuracy: 0.5791\n",
            "Epoch 19/50\n",
            "542/542 [==============================] - 18s 34ms/step - loss: 1.0781 - accuracy: 0.5907 - val_loss: 1.0800 - val_accuracy: 0.5766\n",
            "Epoch 20/50\n",
            "542/542 [==============================] - 18s 34ms/step - loss: 1.0773 - accuracy: 0.5868 - val_loss: 1.0837 - val_accuracy: 0.5775\n",
            "Epoch 21/50\n",
            "542/542 [==============================] - 19s 34ms/step - loss: 1.0720 - accuracy: 0.5863 - val_loss: 1.0831 - val_accuracy: 0.5745\n",
            "Epoch 22/50\n",
            "542/542 [==============================] - 18s 34ms/step - loss: 1.0690 - accuracy: 0.5883 - val_loss: 1.0830 - val_accuracy: 0.5743\n",
            "Epoch 23/50\n",
            "542/542 [==============================] - 19s 34ms/step - loss: 1.0688 - accuracy: 0.5884 - val_loss: 1.0774 - val_accuracy: 0.5798\n",
            "Epoch 24/50\n",
            "542/542 [==============================] - 18s 34ms/step - loss: 1.0646 - accuracy: 0.5895 - val_loss: 1.0738 - val_accuracy: 0.5777\n",
            "Epoch 25/50\n",
            "542/542 [==============================] - 18s 34ms/step - loss: 1.0616 - accuracy: 0.5909 - val_loss: 1.0970 - val_accuracy: 0.5754\n",
            "Epoch 26/50\n",
            "542/542 [==============================] - 19s 34ms/step - loss: 1.0616 - accuracy: 0.5903 - val_loss: 1.0813 - val_accuracy: 0.5763\n",
            "Epoch 27/50\n",
            "542/542 [==============================] - 18s 34ms/step - loss: 1.0579 - accuracy: 0.5905 - val_loss: 1.0896 - val_accuracy: 0.5678\n",
            "Epoch 28/50\n",
            "542/542 [==============================] - 18s 34ms/step - loss: 1.0532 - accuracy: 0.5950 - val_loss: 1.0742 - val_accuracy: 0.5784\n",
            "Epoch 29/50\n",
            "542/542 [==============================] - 19s 34ms/step - loss: 1.0542 - accuracy: 0.5935 - val_loss: 1.0776 - val_accuracy: 0.5770\n",
            "Epoch 30/50\n",
            "542/542 [==============================] - 19s 34ms/step - loss: 1.0557 - accuracy: 0.5923 - val_loss: 1.0720 - val_accuracy: 0.5796\n",
            "Epoch 31/50\n",
            "542/542 [==============================] - 18s 34ms/step - loss: 1.0577 - accuracy: 0.5918 - val_loss: 1.0705 - val_accuracy: 0.5775\n",
            "Epoch 32/50\n",
            "542/542 [==============================] - 18s 34ms/step - loss: 1.0518 - accuracy: 0.5923 - val_loss: 1.0809 - val_accuracy: 0.5773\n",
            "Epoch 33/50\n",
            "542/542 [==============================] - 18s 34ms/step - loss: 1.0571 - accuracy: 0.5916 - val_loss: 1.0775 - val_accuracy: 0.5745\n",
            "Epoch 34/50\n",
            "542/542 [==============================] - 18s 34ms/step - loss: 1.0566 - accuracy: 0.5905 - val_loss: 1.0779 - val_accuracy: 0.5782\n",
            "Epoch 35/50\n",
            "542/542 [==============================] - 18s 34ms/step - loss: 1.0542 - accuracy: 0.5934 - val_loss: 1.0726 - val_accuracy: 0.5803\n",
            "Epoch 36/50\n",
            "542/542 [==============================] - 20s 37ms/step - loss: 1.0481 - accuracy: 0.5955 - val_loss: 1.0709 - val_accuracy: 0.5789\n",
            "Epoch 37/50\n",
            "542/542 [==============================] - 18s 34ms/step - loss: 1.0478 - accuracy: 0.5936 - val_loss: 1.0783 - val_accuracy: 0.5793\n",
            "Epoch 38/50\n",
            "542/542 [==============================] - 20s 38ms/step - loss: 1.0507 - accuracy: 0.5978 - val_loss: 1.0685 - val_accuracy: 0.5798\n",
            "Epoch 39/50\n",
            "542/542 [==============================] - 18s 34ms/step - loss: 1.0485 - accuracy: 0.5961 - val_loss: 1.0817 - val_accuracy: 0.5833\n",
            "Epoch 40/50\n",
            "542/542 [==============================] - 20s 38ms/step - loss: 1.0435 - accuracy: 0.5969 - val_loss: 1.0715 - val_accuracy: 0.5819\n",
            "Epoch 41/50\n",
            "542/542 [==============================] - 19s 34ms/step - loss: 1.0418 - accuracy: 0.5963 - val_loss: 1.0807 - val_accuracy: 0.5763\n",
            "Epoch 42/50\n",
            "542/542 [==============================] - 19s 34ms/step - loss: 1.0505 - accuracy: 0.5928 - val_loss: 1.0665 - val_accuracy: 0.5780\n",
            "Epoch 43/50\n",
            "542/542 [==============================] - 19s 34ms/step - loss: 1.0435 - accuracy: 0.5970 - val_loss: 1.0811 - val_accuracy: 0.5768\n",
            "Epoch 44/50\n",
            "542/542 [==============================] - 19s 34ms/step - loss: 1.0420 - accuracy: 0.5964 - val_loss: 1.0686 - val_accuracy: 0.5754\n",
            "Epoch 45/50\n",
            "542/542 [==============================] - 18s 34ms/step - loss: 1.0449 - accuracy: 0.5957 - val_loss: 1.0723 - val_accuracy: 0.5780\n",
            "Epoch 46/50\n",
            "542/542 [==============================] - 20s 37ms/step - loss: 1.0458 - accuracy: 0.5960 - val_loss: 1.0784 - val_accuracy: 0.5828\n"
          ]
        }
      ]
    },
    {
      "cell_type": "code",
      "metadata": {
        "id": "HgkhbuUpOUP8",
        "colab": {
          "base_uri": "https://localhost:8080/"
        },
        "outputId": "d9e8c4b0-bb8f-4f97-8d7e-8c6c11c6ad8f"
      },
      "source": [
        "model.save('coral_transfer_learning02.h5')"
      ],
      "execution_count": null,
      "outputs": [
        {
          "output_type": "stream",
          "name": "stderr",
          "text": [
            "/usr/local/lib/python3.7/dist-packages/keras/utils/generic_utils.py:497: CustomMaskWarning: Custom mask layers require a config and must override get_config. When loading, the custom mask layer must be passed to the custom_objects argument.\n",
            "  category=CustomMaskWarning)\n"
          ]
        }
      ]
    },
    {
      "cell_type": "code",
      "metadata": {
        "id": "hs65NmSETgDb",
        "colab": {
          "base_uri": "https://localhost:8080/"
        },
        "outputId": "0733aa85-07e1-4499-b80d-676e27bb03e9"
      },
      "source": [
        "model.evaluate(X_test, y_test)"
      ],
      "execution_count": null,
      "outputs": [
        {
          "output_type": "stream",
          "name": "stdout",
          "text": [
            "136/136 [==============================] - 4s 27ms/step - loss: 1.0784 - accuracy: 0.5828\n"
          ]
        },
        {
          "output_type": "execute_result",
          "data": {
            "text/plain": [
              "[1.0783594846725464, 0.5827952027320862]"
            ]
          },
          "metadata": {},
          "execution_count": 28
        }
      ]
    },
    {
      "cell_type": "code",
      "metadata": {
        "colab": {
          "base_uri": "https://localhost:8080/",
          "height": 513
        },
        "id": "tPvqQUrD0Ad0",
        "outputId": "a8c397d9-aabd-4ba9-fb5c-dddadba9b788"
      },
      "source": [
        "acc = history.history['accuracy']\n",
        "val_acc = history.history['val_accuracy']\n",
        "\n",
        "loss = history.history['loss']\n",
        "val_loss = history.history['val_loss']\n",
        "\n",
        "plt.figure(figsize=(8, 8))\n",
        "plt.subplot(2, 1, 1)\n",
        "plt.plot(acc, label='Training Accuracy')\n",
        "plt.plot(val_acc, label='Validation Accuracy')\n",
        "plt.legend(loc='lower right')\n",
        "plt.ylabel('Accuracy')\n",
        "plt.ylim([min(plt.ylim()),0.7])\n",
        "plt.title('Training and Validation Accuracy')\n",
        "\n",
        "plt.subplot(2, 1, 2)\n",
        "plt.plot(loss, label='Training Loss')\n",
        "plt.plot(val_loss, label='Validation Loss')\n",
        "plt.legend(loc='upper right')\n",
        "plt.ylabel('Cross Entropy')\n",
        "plt.ylim([0.9,1.5])\n",
        "plt.title('Training and Validation Loss')\n",
        "plt.xlabel('epoch')\n",
        "plt.show()"
      ],
      "execution_count": null,
      "outputs": [
        {
          "output_type": "display_data",
          "data": {
            "image/png": "[encoded data removed]",
            "text/plain": [
              "<Figure size 576x576 with 2 Axes>"
            ]
          },
          "metadata": {
            "needs_background": "light"
          }
        }
      ]
    },
    {
      "cell_type": "code",
      "metadata": {
        "id": "WoB09ja7RLIe"
      },
      "source": [
        "preds = model.predict(test_imgs)"
      ],
      "execution_count": null,
      "outputs": []
    },
    {
      "cell_type": "code",
      "metadata": {
        "id": "lQbt_DenyXUr"
      },
      "source": [
        "cart = ['Algae', 'Hard Coral', 'Other', 'Other Invertebrates', 'Soft Coral']"
      ],
      "execution_count": null,
      "outputs": []
    },
    {
      "cell_type": "code",
      "metadata": {
        "id": "x6SzJ08fydjY"
      },
      "source": [
        "preds_sub = [cart[np.argmax(pred)] for pred in preds]"
      ],
      "execution_count": null,
      "outputs": []
    },
    {
      "cell_type": "code",
      "metadata": {
        "id": "ajgquqa2SLMZ"
      },
      "source": [
        "test_csv['label'] = preds_sub"
      ],
      "execution_count": null,
      "outputs": []
    },
    {
      "cell_type": "code",
      "metadata": {
        "id": "fqJYC3etSNVJ"
      },
      "source": [
        "test_csv.to_csv('submission_transfer02.csv', index=False)"
      ],
      "execution_count": null,
      "outputs": []
    },
    {
      "cell_type": "markdown",
      "metadata": {
        "id": "IUKI_reK0smh"
      },
      "source": [
        "## Fine Tuning"
      ]
    },
    {
      "cell_type": "code",
      "metadata": {
        "id": "62nnlZiZ0vPP"
      },
      "source": [
        "base_model.trainable = True"
      ],
      "execution_count": null,
      "outputs": []
    },
    {
      "cell_type": "code",
      "metadata": {
        "colab": {
          "base_uri": "https://localhost:8080/"
        },
        "id": "lKsxzfz70329",
        "outputId": "46f9900d-73b0-454d-c810-77c205a1a49a"
      },
      "source": [
        "# Let's take a look to see how many layers are in the base model\n",
        "print(\"Number of layers in the base model: \", len(base_model.layers))\n",
        "\n",
        "# Fine-tune from this layer onwards\n",
        "fine_tune_at = 100\n",
        "\n",
        "# Freeze all the layers before the `fine_tune_at` layer\n",
        "for layer in base_model.layers[:fine_tune_at]:\n",
        "  layer.trainable =  False"
      ],
      "execution_count": null,
      "outputs": [
        {
          "output_type": "stream",
          "name": "stdout",
          "text": [
            "Number of layers in the base model:  154\n"
          ]
        }
      ]
    },
    {
      "cell_type": "code",
      "metadata": {
        "id": "X6-nWN2h1BPG"
      },
      "source": [
        "model.compile(optimizer=tf.keras.optimizers.Adam(learning_rate=base_learning_rate/10),\n",
        "              loss=tf.keras.losses.CategoricalCrossentropy(),\n",
        "              metrics=['accuracy'])"
      ],
      "execution_count": null,
      "outputs": []
    },
    {
      "cell_type": "code",
      "metadata": {
        "colab": {
          "base_uri": "https://localhost:8080/"
        },
        "id": "8yRO1q2c1Ud7",
        "outputId": "8a980b75-e66b-4920-d7e8-1cce3535c24c"
      },
      "source": [
        "model.summary()"
      ],
      "execution_count": null,
      "outputs": [
        {
          "output_type": "stream",
          "name": "stdout",
          "text": [
            "Model: \"model\"\n",
            "_________________________________________________________________\n",
            "Layer (type)                 Output Shape              Param #   \n",
            "=================================================================\n",
            "input_2 (InputLayer)         [(None, 100, 100, 3)]     0         \n",
            "_________________________________________________________________\n",
            "sequential (Sequential)      (None, 100, 100, 3)       0         \n",
            "_________________________________________________________________\n",
            "rescaling (Rescaling)        (None, 100, 100, 3)       0         \n",
            "_________________________________________________________________\n",
            "mobilenetv2_1.00_224 (Functi (None, 4, 4, 1280)        2257984   \n",
            "_________________________________________________________________\n",
            "global_average_pooling2d (Gl (None, 1280)              0         \n",
            "_________________________________________________________________\n",
            "dropout (Dropout)            (None, 1280)              0         \n",
            "_________________________________________________________________\n",
            "dense (Dense)                (None, 5)                 6405      \n",
            "=================================================================\n",
            "Total params: 2,264,389\n",
            "Trainable params: 1,867,845\n",
            "Non-trainable params: 396,544\n",
            "_________________________________________________________________\n"
          ]
        }
      ]
    },
    {
      "cell_type": "code",
      "metadata": {
        "colab": {
          "base_uri": "https://localhost:8080/"
        },
        "id": "F4_Zz6W01Xhs",
        "outputId": "9d981685-80c2-40c0-d5a8-503bde0b6eea"
      },
      "source": [
        "fine_tune_epochs = 30\n",
        "total_epochs =  initial_epochs + fine_tune_epochs\n",
        "\n",
        "history_fine = model.fit(X_train, y_train,\n",
        "                         epochs=total_epochs,\n",
        "                         initial_epoch=history.epoch[-1],\n",
        "                         validation_data=(X_test, y_test),\n",
        "                         callbacks=[callback])"
      ],
      "execution_count": null,
      "outputs": [
        {
          "output_type": "stream",
          "name": "stdout",
          "text": [
            "Epoch 60/80\n",
            "542/542 [==============================] - 28s 51ms/step - loss: 0.9280 - accuracy: 0.6371 - val_loss: 1.0116 - val_accuracy: 0.6105\n",
            "Epoch 61/80\n",
            "542/542 [==============================] - 28s 51ms/step - loss: 0.9207 - accuracy: 0.6468 - val_loss: 1.0398 - val_accuracy: 0.6024\n",
            "Epoch 62/80\n",
            "542/542 [==============================] - 28s 51ms/step - loss: 0.9217 - accuracy: 0.6467 - val_loss: 1.0139 - val_accuracy: 0.6102\n",
            "Epoch 63/80\n",
            "542/542 [==============================] - 28s 51ms/step - loss: 0.9129 - accuracy: 0.6463 - val_loss: 1.0066 - val_accuracy: 0.6086\n",
            "Epoch 64/80\n",
            "542/542 [==============================] - 28s 51ms/step - loss: 0.9090 - accuracy: 0.6489 - val_loss: 1.0235 - val_accuracy: 0.6010\n",
            "Epoch 65/80\n",
            "542/542 [==============================] - 28s 51ms/step - loss: 0.8974 - accuracy: 0.6515 - val_loss: 1.0346 - val_accuracy: 0.6114\n",
            "Epoch 66/80\n",
            "542/542 [==============================] - 28s 51ms/step - loss: 0.8923 - accuracy: 0.6544 - val_loss: 1.0289 - val_accuracy: 0.6114\n",
            "Epoch 67/80\n",
            "542/542 [==============================] - 28s 51ms/step - loss: 0.8944 - accuracy: 0.6541 - val_loss: 1.0260 - val_accuracy: 0.6038\n",
            "Epoch 68/80\n",
            "542/542 [==============================] - 28s 51ms/step - loss: 0.8883 - accuracy: 0.6542 - val_loss: 1.0088 - val_accuracy: 0.6068\n",
            "Epoch 69/80\n",
            "542/542 [==============================] - 28s 51ms/step - loss: 0.8828 - accuracy: 0.6557 - val_loss: 1.0266 - val_accuracy: 0.6109\n",
            "Epoch 70/80\n",
            "542/542 [==============================] - 28s 51ms/step - loss: 0.8798 - accuracy: 0.6597 - val_loss: 1.0136 - val_accuracy: 0.6068\n",
            "Epoch 71/80\n",
            "542/542 [==============================] - 28s 51ms/step - loss: 0.8726 - accuracy: 0.6608 - val_loss: 1.0248 - val_accuracy: 0.6010\n",
            "Epoch 72/80\n",
            "542/542 [==============================] - 30s 55ms/step - loss: 0.8700 - accuracy: 0.6621 - val_loss: 1.0221 - val_accuracy: 0.6084\n",
            "Epoch 73/80\n",
            "542/542 [==============================] - 28s 51ms/step - loss: 0.8639 - accuracy: 0.6639 - val_loss: 1.0162 - val_accuracy: 0.6031\n",
            "Epoch 74/80\n",
            "542/542 [==============================] - 28s 51ms/step - loss: 0.8586 - accuracy: 0.6658 - val_loss: 1.0370 - val_accuracy: 0.6102\n",
            "Epoch 75/80\n",
            "542/542 [==============================] - 28s 51ms/step - loss: 0.8569 - accuracy: 0.6689 - val_loss: 1.0306 - val_accuracy: 0.6109\n",
            "Epoch 76/80\n",
            "542/542 [==============================] - 28s 51ms/step - loss: 0.8510 - accuracy: 0.6685 - val_loss: 1.0135 - val_accuracy: 0.6119\n",
            "Epoch 77/80\n",
            "542/542 [==============================] - 28s 51ms/step - loss: 0.8499 - accuracy: 0.6699 - val_loss: 1.0363 - val_accuracy: 0.6049\n",
            "Epoch 78/80\n",
            "542/542 [==============================] - 28s 51ms/step - loss: 0.8490 - accuracy: 0.6717 - val_loss: 1.0297 - val_accuracy: 0.6042\n"
          ]
        }
      ]
    },
    {
      "cell_type": "code",
      "metadata": {
        "colab": {
          "base_uri": "https://localhost:8080/"
        },
        "id": "6oty4JfS3gue",
        "outputId": "ab143c68-cc66-41ea-94c5-0a996d39bbc3"
      },
      "source": [
        "model.evaluate(X_test, y_test)"
      ],
      "execution_count": null,
      "outputs": [
        {
          "output_type": "stream",
          "name": "stdout",
          "text": [
            "136/136 [==============================] - 4s 27ms/step - loss: 1.0483 - accuracy: 0.6022\n"
          ]
        },
        {
          "output_type": "execute_result",
          "data": {
            "text/plain": [
              "[1.0483033657073975, 0.6021679043769836]"
            ]
          },
          "metadata": {},
          "execution_count": 63
        }
      ]
    },
    {
      "cell_type": "code",
      "metadata": {
        "id": "KhY0rBGN3B79"
      },
      "source": [
        "preds = model.predict(test_imgs)"
      ],
      "execution_count": null,
      "outputs": []
    },
    {
      "cell_type": "code",
      "metadata": {
        "id": "JiEPN5TZ3MR7"
      },
      "source": [
        "cart = ['Algae', 'Hard Coral', 'Other', 'Other Invertebrates', 'Soft Coral']"
      ],
      "execution_count": null,
      "outputs": []
    },
    {
      "cell_type": "code",
      "metadata": {
        "id": "VV7Bp7Gw3Q24"
      },
      "source": [
        "preds_sub = [cart[np.argmax(pred)] for pred in preds]"
      ],
      "execution_count": null,
      "outputs": []
    },
    {
      "cell_type": "code",
      "metadata": {
        "id": "KMaCmcR53bI3"
      },
      "source": [
        "test_csv['label'] = preds_sub"
      ],
      "execution_count": null,
      "outputs": []
    },
    {
      "cell_type": "code",
      "metadata": {
        "id": "CShNuzjX3fUE"
      },
      "source": [
        "test_csv.to_csv('submission_transfer04.csv', index=False)"
      ],
      "execution_count": null,
      "outputs": []
    }
  ]
}